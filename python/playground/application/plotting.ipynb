{
 "cells": [
  {
   "cell_type": "code",
   "execution_count": 19,
   "metadata": {},
   "outputs": [],
   "source": [
    "import matplotlib.pyplot as plt"
   ]
  },
  {
   "cell_type": "code",
   "execution_count": 20,
   "metadata": {},
   "outputs": [],
   "source": [
    "height = [2,3,10,5,7,8,9]\n",
    "x = [i for i in range(len(height))]"
   ]
  },
  {
   "cell_type": "code",
   "execution_count": 26,
   "metadata": {},
   "outputs": [],
   "source": [
    "def max_area(heights: list[int]) -> dict[str, any]:\n",
    "    left = 0\n",
    "    right = len(heights) - 1\n",
    "    details = {\"max_area\": 0, \"height\": 0, \"ranges\": [0, 0]}\n",
    "\n",
    "    while left < right:\n",
    "        area = min(heights[left], heights[right]) * (right - left)\n",
    "        if area > details[\"max_area\"]:\n",
    "            max_area = area\n",
    "            details[\"max_area\"] = max_area\n",
    "            details[\"height\"] = min(heights[left], heights[right])\n",
    "            details[\"ranges\"] = [left, right]\n",
    "        if heights[left] <= heights[right]:\n",
    "            left += 1\n",
    "        else:\n",
    "            right -= 1\n",
    "    return details"
   ]
  },
  {
   "cell_type": "code",
   "execution_count": 28,
   "metadata": {},
   "outputs": [],
   "source": [
    "details = max_area(height)\n",
    "h = details[\"height\"]\n",
    "ranges = details[\"ranges\"]"
   ]
  },
  {
   "cell_type": "code",
   "execution_count": 36,
   "metadata": {},
   "outputs": [
    {
     "data": {
      "image/png": "[encoded data removed]",
      "text/plain": [
       "<Figure size 640x480 with 1 Axes>"
      ]
     },
     "metadata": {},
     "output_type": "display_data"
    }
   ],
   "source": [
    "plt.bar(x, height, color='black', width=0.3)\n",
    "plt.fill_between(ranges, h, color='lightblue', alpha=0.7)\n",
    "plt.show()"
   ]
  }
 ],
 "metadata": {
  "kernelspec": {
   "display_name": ".venv",
   "language": "python",
   "name": "python3"
  },
  "language_info": {
   "codemirror_mode": {
    "name": "ipython",
    "version": 3
   },
   "file_extension": ".py",
   "mimetype": "text/x-python",
   "name": "python",
   "nbconvert_exporter": "python",
   "pygments_lexer": "ipython3",
   "version": "3.12.0"
  }
 },
 "nbformat": 4,
 "nbformat_minor": 2
}
